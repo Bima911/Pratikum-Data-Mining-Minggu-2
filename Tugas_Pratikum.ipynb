{
 "cells": [
  {
   "cell_type": "code",
   "execution_count": 1,
   "metadata": {},
   "outputs": [
    {
     "name": "stdout",
     "output_type": "stream",
     "text": [
      "Nama    : Bima Randy Gumilang\n",
      "NIM     : 312010497\n",
      "Hello, Bima\n",
      "Bima Randy Gumilang\n",
      "312010497\n",
      "TI20E1\n",
      "23\n",
      "Indonesia\n"
     ]
    }
   ],
   "source": [
    "f = open(\"biodata.txt\", \"r\")\n",
    "\n",
    "print(f.read())\n",
    "f.close()\n",
    "\n",
    "import modul_1\n",
    "\n",
    "modul_1.greeting(\"Bima\")\n",
    "\n",
    "from modul_1 import person1\n",
    "\n",
    "print(person1[\"name\"])\n",
    "print(person1[\"NIM\"])\n",
    "print(person1[\"class\"])\n",
    "print(person1[\"age\"])\n",
    "print(person1[\"country\"])"
   ]
  }
 ],
 "metadata": {
  "kernelspec": {
   "display_name": "Python 3",
   "language": "python",
   "name": "python3"
  },
  "language_info": {
   "codemirror_mode": {
    "name": "ipython",
    "version": 3
   },
   "file_extension": ".py",
   "mimetype": "text/x-python",
   "name": "python",
   "nbconvert_exporter": "python",
   "pygments_lexer": "ipython3",
   "version": "3.10.8"
  },
  "orig_nbformat": 4
 },
 "nbformat": 4,
 "nbformat_minor": 2
}
