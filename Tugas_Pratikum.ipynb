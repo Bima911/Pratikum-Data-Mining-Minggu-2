{
 "cells": [
  {
   "cell_type": "code",
   "execution_count": null,
   "metadata": {},
   "outputs": [],
   "source": [
    "f = open(\"biodata.txt\", \"r\")\n",
    "\n",
    "print(f.read())\n",
    "f.close()\n",
    "\n",
    "import modul_1\n",
    "\n",
    "modul_1.greeting(\"Bima\")\n",
    "\n",
    "from modul_1 import person1\n",
    "\n",
    "print(person1[\"name\"])\n",
    "print(person1[\"NIM\"])\n",
    "print(person1[\"class\"])\n",
    "print(person1[\"age\"])\n",
    "print(person1[\"country\"])"
   ]
  }
 ],
 "metadata": {
  "language_info": {
   "name": "python"
  },
  "orig_nbformat": 4
 },
 "nbformat": 4,
 "nbformat_minor": 2
}
